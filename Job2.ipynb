{
  "nbformat": 4,
  "nbformat_minor": 0,
  "metadata": {
    "colab": {
      "name": "Job2.ipynb",
      "provenance": [],
      "authorship_tag": "ABX9TyO0fyS08ziBVqlSAV0wWFC/",
      "include_colab_link": true
    },
    "kernelspec": {
      "name": "python3",
      "display_name": "Python 3"
    },
    "language_info": {
      "name": "python"
    }
  },
  "cells": [
    {
      "cell_type": "markdown",
      "metadata": {
        "id": "view-in-github",
        "colab_type": "text"
      },
      "source": [
        "<a href=\"https://colab.research.google.com/github/soprunveronika/DSL/blob/main/Job2.ipynb\" target=\"_parent\"><img src=\"https://colab.research.google.com/assets/colab-badge.svg\" alt=\"Open In Colab\"/></a>"
      ]
    },
    {
      "cell_type": "markdown",
      "metadata": {
        "id": "MfGLLX4r-qhy"
      },
      "source": [
        "Здесь реализована функция удаления ненужных нетерминальных символов. Алгоритм состоит из того, что мы итеративно заполняем наш набор полезных нетерминальных символов, что может привести нас к последовательности, где все символы являются конечными. На каждой итерации мы ищем нетерминалы, у которых есть правило соответствия последовательности, где все символы являются терминалами, или уже известные полезные нетерминалы. Мы останавливаем наши итерации после того, как не можем найти новые полезные нетерминалы после того, как перебрали весь набор нетерминалов.\n",
        "\n",
        "Структура нашей контекстно-свободной грамматики такова, что:\n",
        "{'toks': set(token), 'vars': dict(var: definition), 'hvar': var}\n",
        "token : (class, value)    # это просто терминальный символ \n",
        "class : int\n",
        "value : str\n",
        "var : str                 # имя нетерминального \n",
        "definition : list(rule)\n",
        "rule : list(var | token)  # правая часть правила сопоставления"
      ]
    },
    {
      "cell_type": "code",
      "metadata": {
        "id": "1E0eGOwu-eIm"
      },
      "source": [
        "def remove_all_usefull_non_terminals(grammar):\n",
        "\n",
        "  usefull_non_terminals = set()   # это пустой набор \n",
        "  tokens = grammar['toks']\n",
        "  variables = grammar['vars']\n",
        "  start_non_terminal = grammar['hvar']\n",
        "  found_new_usefull_non_terminal = True # установка true только для входа в цикл\n",
        "\n",
        "  while found_new_usefull_non_terminal:\n",
        "    found_new_usefull_non_terminal = False\n",
        "    for non_terminal, definition in variables.items():\n",
        "      if non_terminal not in usefull_non_terminals:\n",
        "        for rule in definition:\n",
        "          # если для всех символов из правила является терминальным или полезным нетерминальным \n",
        "          if all(map(lambda symbol: symbol in tokens or symbol in usefull_non_terminals, rule)): \n",
        "            found_new_usefull_non_terminal = True\n",
        "            usefull_non_terminals.add(non_terminal)\n",
        "            break   # мы определили, что текущий символ полезен, поэтому больше не повторяем\n",
        "\n",
        "  # новый набор нетерминалов. pair[0] является ключом в паре \"ключ-значение\" в словаре \n",
        "  new_variables = dict(filter(lambda pair: pair[0] in usefull_non_terminals, variables.items()))\n",
        "\n",
        "  # очищение всех правил, которые являються бесполезные нетерминалы\n",
        "  for non_terminal in new_variables.keys():\n",
        "    old_definition = new_variables[non_terminal]\n",
        "    new_variables[non_terminal] = list(\n",
        "        filter(lambda rule: all(\n",
        "            map(lambda symbol: symbol in tokens or symbol in usefull_non_terminals, rule)\n",
        "        ), old_definition)\n",
        "    )\n",
        "  \n",
        "  # удаление стартового нетерминала, если его больше нет в новом наборе\n",
        "  if start_non_terminal not in usefull_non_terminals:\n",
        "    start_non_terminal = None\n",
        "\n",
        "  return {'toks': tokens, 'vars': new_variables, 'hvar': start_non_terminal}"
      ],
      "execution_count": null,
      "outputs": []
    },
    {
      "cell_type": "markdown",
      "metadata": {
        "id": "c0i7HgfZAG7T"
      },
      "source": [
        "Далее следует реализация функции, которая удаляет все истекающие нетерминалы. Алгоритм похожий. Мы итеративно заполняем набор истекающих нетерминалов, пока он не перестанет расти после прохождения всех правил сопоставления. Добавляем нетерминал в набор, если его еще нет и есть правило, в правой части которого все символы находятся в наборе истекающих нетерминалов. "
      ]
    },
    {
      "cell_type": "code",
      "metadata": {
        "id": "7D5lEpicAL7_"
      },
      "source": [
        "def find_all_expiring_non_terminals(grammar):\n",
        "\n",
        "  expiring_non_terminals = set()   # это пустой набор\n",
        "  tokens = grammar['toks']\n",
        "  variables = grammar['vars']\n",
        "  start_non_terminal = grammar['hvar']\n",
        "  found_new_expiring_non_terminal = True # установка true только для входа в цикл \n",
        "\n",
        "  while found_new_expiring_non_terminal:\n",
        "    found_new_expiring_non_terminal = False\n",
        "    for non_terminal, definition in variables.items():\n",
        "      if non_terminal not in expiring_non_terminals:\n",
        "        for rule in definition:\n",
        "          # если для всех символов из правила истекает срок действия\n",
        "          if all(map(lambda symbol: symbol in expiring_non_terminals, rule)): \n",
        "            found_new_expiring_non_terminal = True\n",
        "            expiring_non_terminals.add(non_terminal)\n",
        "            break   # мы определили, что текущий символ истекает, поэтому больше не повторяем\n",
        "\n",
        "  return expiring_non_terminals"
      ],
      "execution_count": null,
      "outputs": []
    }
  ]
}