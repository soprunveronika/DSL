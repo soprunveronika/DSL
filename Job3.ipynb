{
  "nbformat": 4,
  "nbformat_minor": 0,
  "metadata": {
    "colab": {
      "name": "Job3.ipynb",
      "provenance": [],
      "collapsed_sections": [],
      "authorship_tag": "ABX9TyPlfCm2aT9lY7OKa6dPJqd7",
      "include_colab_link": true
    },
    "kernelspec": {
      "name": "python3",
      "display_name": "Python 3"
    },
    "language_info": {
      "name": "python"
    }
  },
  "cells": [
    {
      "cell_type": "markdown",
      "metadata": {
        "id": "view-in-github",
        "colab_type": "text"
      },
      "source": [
        "<a href=\"https://colab.research.google.com/github/soprunveronika/DSL/blob/main/Job3.ipynb\" target=\"_parent\"><img src=\"https://colab.research.google.com/assets/colab-badge.svg\" alt=\"Open In Colab\"/></a>"
      ]
    },
    {
      "cell_type": "code",
      "metadata": {
        "id": "cNWF-Ub-h1Op"
      },
      "source": [
        "def form_all_firsts(G: dict) -> dict:\n",
        "  result_dict = {}  # будет заполнен и возвращен \n",
        "  tokens = G['toks']\n",
        "  variables = G['vars']\n",
        "\n",
        "  def first(non_terminal: str) -> set:\n",
        "    definition = variables[non_terminal]\n",
        "    answer_set = set()  # набор результатов первой функции \n",
        "    has_epsilon = False\n",
        "    for rule in definition:\n",
        "      if not len(rule):     # случай, когда нетерминал истекает \n",
        "        has_epsilon = True\n",
        "        continue\n",
        "      for index, symbol in enumerate(rule):\n",
        "        if symbol in tokens:  # случай, когда первый символ является терминальным \n",
        "          answer_set.add(symbol)\n",
        "          break\n",
        "        else:                 # случай, когда первый символ является нетерминальным \n",
        "          if symbol in result_dict:  # нам не нужно рассчитывать FIRST, если он уже рассчитан \n",
        "            firsts_for_another = result_dict[symbol]\n",
        "            answer_set = set.union(answer_set, firsts_for_another)\n",
        "          else: # вычисление, кеширование и добавление результата FIRST функции \n",
        "            firsts_for_another = first(symbol)\n",
        "            result_dict[symbol] = firsts_for_another\n",
        "            answer_set = set.union(answer_set, firsts_for_another)\n",
        "          if '' not in firsts_for_another:\n",
        "            break\n",
        "          elif index == len(rule) - 1:\n",
        "            has_epsilon = True\n",
        "    \n",
        "    if has_epsilon:\n",
        "      answer_set.add('')\n",
        "    elif '' in answer_set:\n",
        "      answer_set.remove('')\n",
        "    \n",
        "    return answer_set\n",
        "\n",
        "  for non_terminal in variables.keys():\n",
        "    # рассчитываем, только если он еще не рассчитан внутри вызова FIRST\n",
        "    if non_terminal not in result_dict:\n",
        "      result_dict[non_terminal] = first(non_terminal)\n",
        "\n",
        "  return result_dict"
      ],
      "execution_count": null,
      "outputs": []
    },
    {
      "cell_type": "markdown",
      "metadata": {
        "id": "05xHMa8Oh2u-"
      },
      "source": [
        "Функция FIRST возвращает набор терминалов, которые могут быть вычтены из нетерминала, который мы ей передали. Используя тот факт, что мы удалили левую рекурсию из нашей грамматики, мы можем легко реализовать эту функцию рекурсивно, потому что есть свидетельства того, что мы не застрянем в бесконечном цикле. Итак, если у нас есть нетерминальный A, мы начинаем перебирать правила, в которых левый сайт имеет только A, и если первый символ правила является терминальным h - мы просто добавляем его в set. Если нетерминал B - получаем ПЕРВЫЙ (B). Если он содержит '', мы проделываем те же операции со следующим символом правила и добавляем FIRST (B) \\ {''} к нашему набору ответов. Если мы дошли до конца правила и ПЕРВЫЙ (последний) содержит \"\", то ответ также будет содержать \"\".\n",
        "\n",
        "Я  реализовываю функцию form_all_first, которая берет грамматику и возвращает dict, где все ключи не являются терминалами, а значения являются результатом применения к ним FIRST. "
      ]
    },
    {
      "cell_type": "code",
      "metadata": {
        "id": "yXFPV387h3tk"
      },
      "source": [
        "def first_for_sequence(first_dict: dict, seq: str, tokens: set):\n",
        "  answer = set()  # набор результатов \n",
        "  for symbol in seq:\n",
        "    if symbol in tokens:  # нет смысла продолжать \n",
        "      answer.add(symbol)\n",
        "      return answer\n",
        "    else:\n",
        "      answer = set.union(answer, first_dict[symbol])\n",
        "      if '' not in first_dict[symbol]:\n",
        "        return answer\n",
        "      else:\n",
        "        answer.remove('') # epsilon еще не на первом месте \n",
        "  answer.add('')  # если все символы ->> epsilon, seq ->> epsilon\n",
        "  return answer\n",
        "\n",
        "def form_all_follow(G: dict) -> dict:\n",
        "  result_dict = {}  # будет заполнен и возвращен\n",
        "  tokens = G['toks']\n",
        "  variables = G['vars']\n",
        "  hvar = G['hvar']\n",
        "  updated = True\n",
        "  epsilon = ''\n",
        "  first_dict = form_all_firsts(G)\n",
        "\n",
        "  for non_terminal in variables.keys():\n",
        "    result_dict[non_terminal] = set()\n",
        "\n",
        "  result_dict[hvar] = set()\n",
        "  result_dict[hvar].add('$')\n",
        "  while updated:\n",
        "    updated = False\n",
        "    for non_terminal, definition in variables.items():\n",
        "      for rule in definition:\n",
        "        for index, symbol in enumerate(rule):\n",
        "          if symbol not in tokens:\n",
        "            first_set = first_for_sequence(first_dict, rule[index + 1:], tokens)\n",
        "            prev_size = len(result_dict[symbol])\n",
        "            if epsilon in first_set:\n",
        "              first_set.remove(epsilon)\n",
        "              result_dict[symbol] = set.union(result_dict[symbol], first_set)\n",
        "              result_dict[symbol] = set.union(result_dict[symbol], result_dict[non_terminal])\n",
        "            else:\n",
        "              result_dict[symbol] = set.union(result_dict[symbol], first_set)\n",
        "            new_size = len(result_dict[symbol])\n",
        "            if new_size != prev_size:\n",
        "              updated = True\n",
        "  \n",
        "  return result_dict"
      ],
      "execution_count": null,
      "outputs": []
    },
    {
      "cell_type": "markdown",
      "metadata": {
        "id": "jKNeTfDwh7Db"
      },
      "source": [
        "Эта функция FOLLOW. Алгоритм вычисляет все терминальные символы, которые могут появиться после нетерминальных в начальной дедукции. Он рассчитывается один раз и навсегда, поэтому наша функция будет принимать грамматику и возвращать dict для каждого нетерминала. Начиная, мы устанавливаем follow_dict [S] = {$}, где $ - конец ввода. Для каждого правила, если A -> aB, поместите follow (A) в follow (B). если A -> aBb, то поместите first (b) в follow (A), где first (seq) - это все терминалы, которые могут начинать слово, вычитаемое из seq. Мы повторяем эти действия в цикле, потому что следующие наборы могут изменяться на каждой итерации, поэтому мы повторяем это до тех пор, пока после передачи всех правил dict не останется неизменным. "
      ]
    }
  ]
}